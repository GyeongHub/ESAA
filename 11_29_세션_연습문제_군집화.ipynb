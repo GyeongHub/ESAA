{
  "nbformat": 4,
  "nbformat_minor": 0,
  "metadata": {
    "colab": {
      "provenance": []
    },
    "kernelspec": {
      "name": "python3",
      "display_name": "Python 3"
    },
    "language_info": {
      "name": "python"
    }
  },
  "cells": [
    {
      "cell_type": "markdown",
      "metadata": {
        "id": "c1FcvJ0YgJin"
      },
      "source": [
        "# **kMeans 알고리즘을 적용하여 확인적 군집분석을 수행하시오.**\n",
        ">변수 설명 ) tot_price : 총구매액, buy_count : 구매횟수,\n",
        "                   visit_count : 매장방문횟수, avg_price : 평균구매액"
      ]
    },
    {
      "cell_type": "code",
      "metadata": {
        "id": "e0Bt7MHIgK_P"
      },
      "source": [
        "#필요한 모듈 불러오기\n",
        "import pandas as pd\n",
        "from sklearn.cluster import KMeans\n",
        "import matplotlib.pyplot as plt\n",
        "from sklearn.decomposition import PCA\n",
        "from sklearn.metrics import silhouette_samples, silhouette_score"
      ],
      "execution_count": 1,
      "outputs": []
    },
    {
      "cell_type": "markdown",
      "metadata": {
        "id": "CwK2SgWXgTO5"
      },
      "source": [
        "## 1) 데이터 불러오기 및 탐색"
      ]
    },
    {
      "cell_type": "code",
      "metadata": {
        "id": "QCwXOdIygPKf",
        "colab": {
          "base_uri": "https://localhost:8080/"
        },
        "outputId": "ef337585-c1e9-45c1-e34e-4d930c4324ef"
      },
      "source": [
        "sales = pd.read_csv(\"product_sales.csv\")\n",
        "print(sales.info())"
      ],
      "execution_count": 2,
      "outputs": [
        {
          "output_type": "stream",
          "name": "stdout",
          "text": [
            "<class 'pandas.core.frame.DataFrame'>\n",
            "RangeIndex: 150 entries, 0 to 149\n",
            "Data columns (total 4 columns):\n",
            " #   Column       Non-Null Count  Dtype  \n",
            "---  ------       --------------  -----  \n",
            " 0   tot_price    150 non-null    float64\n",
            " 1   visit_count  150 non-null    float64\n",
            " 2   buy_count    150 non-null    float64\n",
            " 3   avg_price    150 non-null    float64\n",
            "dtypes: float64(4)\n",
            "memory usage: 4.8 KB\n",
            "None\n"
          ]
        }
      ]
    },
    {
      "cell_type": "code",
      "metadata": {
        "id": "PRs1pZdAgfcb",
        "colab": {
          "base_uri": "https://localhost:8080/"
        },
        "outputId": "e5b123e9-e819-48ba-cc93-5026adef632f"
      },
      "source": [
        "print(sales.shape)\n",
        "print(type(sales))"
      ],
      "execution_count": 3,
      "outputs": [
        {
          "output_type": "stream",
          "name": "stdout",
          "text": [
            "(150, 4)\n",
            "<class 'pandas.core.frame.DataFrame'>\n"
          ]
        }
      ]
    },
    {
      "cell_type": "markdown",
      "metadata": {
        "id": "YfG1wuHTgpRG"
      },
      "source": [
        "## 2) KMeans 를 이용하여 3개의 군집으로 군집화"
      ]
    },
    {
      "cell_type": "markdown",
      "metadata": {
        "id": "lImpKmE_homZ"
      },
      "source": [
        "2-1) KMeans 모델을 생성하세요. 군집은 3개로 군집화하세요."
      ]
    },
    {
      "cell_type": "code",
      "metadata": {
        "id": "icgsSQ3Zgi_9"
      },
      "source": [
        "#모델 생성\n",
        "kmeans = KMeans(n_clusters=3, random_state=42)"
      ],
      "execution_count": 5,
      "outputs": []
    },
    {
      "cell_type": "markdown",
      "metadata": {
        "id": "2OIP8gnyhxia"
      },
      "source": [
        "2-2) 모델을 훈련하고 예측치 생성하고 이 결과를 pred라는 변수에 저장하세요."
      ]
    },
    {
      "cell_type": "code",
      "metadata": {
        "id": "ebGU3AJyhWCn"
      },
      "source": [
        "pred = kmeans.fit_predict(sales[['tot_price','buy_count','visit_count','avg_price']])"
      ],
      "execution_count": 6,
      "outputs": []
    },
    {
      "cell_type": "markdown",
      "metadata": {
        "id": "Vs2umEnah6MX"
      },
      "source": [
        "2-3) 원형 데이터(scale)에 예측치(변수명:cluster)를 추가하세요."
      ]
    },
    {
      "cell_type": "code",
      "metadata": {
        "id": "2qF-jLKahfPe"
      },
      "source": [
        "sales['cluster']=pred"
      ],
      "execution_count": 7,
      "outputs": []
    },
    {
      "cell_type": "markdown",
      "metadata": {
        "id": "_mmO5GpXiWPH"
      },
      "source": [
        "## 3) 군집화 시각화\n",
        ": 전체 데이터를 2차원으로 축소한 뒤 시각화하세요."
      ]
    },
    {
      "cell_type": "markdown",
      "metadata": {
        "id": "LysC2L9duAmP"
      },
      "source": [
        "3-1) cluster 변수를 제외한 sales 데이터를 salesDF라는 이름으로 변수에 저장하세요."
      ]
    },
    {
      "cell_type": "code",
      "metadata": {
        "id": "aZ58gQTVuTcr"
      },
      "source": [
        "salesDF = sales.drop('cluster', axis=1)"
      ],
      "execution_count": 8,
      "outputs": []
    },
    {
      "cell_type": "markdown",
      "metadata": {
        "id": "7Qx6EpFuvJMz"
      },
      "source": [
        "3-2) salesDF 데이터를 이용하여 2차원으로 차원축소 한 후 그 결과를 sales에 pca_x, pca_y 이름으로 저장하세요."
      ]
    },
    {
      "cell_type": "code",
      "metadata": {
        "id": "HbdaFWKnlVhF"
      },
      "source": [
        "#차원 축소 한 후 변형된 값 임의의 변수에 저장\n",
        "pca = PCA(n_components=2)\n",
        "pca_result = pca.fit_transform(salesDF)\n",
        "\n",
        "#sales에 'pca_x', 'pca_y' 이름으로 열 만들어 저장\n",
        "sales['pca_x']=pca_result[:,0]\n",
        "sales['pca_y']=pca_result[:,1]"
      ],
      "execution_count": 9,
      "outputs": []
    },
    {
      "cell_type": "markdown",
      "metadata": {
        "id": "uSA4KaVcjELK"
      },
      "source": [
        "3-3) pca_x를 x축, pca_y를 y축으로 하여 산점도를 그리세요. 색으로 각 점이 군집에 따라 구분되도록 하세요. (단, 각 군집별로 마커 모양 구분하지 않고 오직 색으로만 구분합니다.)"
      ]
    },
    {
      "cell_type": "code",
      "metadata": {
        "id": "zi42IlfRjCNP",
        "colab": {
          "base_uri": "https://localhost:8080/",
          "height": 435
        },
        "outputId": "9f5e103c-15cf-47c1-cd4d-12e4b8c5598b"
      },
      "source": [
        "plt.scatter(sales['pca_x'], sales['pca_y'], c=sales['cluster'])\n",
        "plt.colorbar(label='cluster')\n",
        "plt.show()"
      ],
      "execution_count": 12,
      "outputs": [
        {
          "output_type": "display_data",
          "data": {
            "text/plain": [
              "<Figure size 640x480 with 2 Axes>"
            ],
            "image/png": "[encoded data removed]"
          },
          "metadata": {}
        }
      ]
    },
    {
      "cell_type": "markdown",
      "metadata": {
        "id": "ACFmY31zw701"
      },
      "source": [
        "## 4) 군집평가: 실루엣 계수 구하기"
      ]
    },
    {
      "cell_type": "code",
      "metadata": {
        "id": "aOVy3VRgxxo3"
      },
      "source": [
        "#시각화를 위하여 사용했던 차원 축소 관련 계수 삭제\n",
        "sales=sales.drop(['pca_x','pca_y'], axis=1)\n",
        "\n",
        "#cluster 행을 제외한 순수 데이터 sales_data로 저장\n",
        "sales_data=sales.drop('cluster', axis=1)"
      ],
      "execution_count": 14,
      "outputs": []
    },
    {
      "cell_type": "markdown",
      "metadata": {
        "id": "MbRL_ERnxKG4"
      },
      "source": [
        "4-1) sales의 모든 데이터에 실루엣 계수를 구하고 실루엣 계수 칼럼을 추가하세요."
      ]
    },
    {
      "cell_type": "code",
      "metadata": {
        "id": "WguqFEIGnevN"
      },
      "source": [
        "#sales의 모든 데이터에 실루엣 계수 구하기\n",
        "from sklearn.metrics import silhouette_samples, silhouette_score\n",
        "\n",
        "silhouette_vals = silhouette_samples(sales_data, sales['cluster'])"
      ],
      "execution_count": 15,
      "outputs": []
    },
    {
      "cell_type": "code",
      "metadata": {
        "id": "UtKeaL-kxiiR"
      },
      "source": [
        "#sales에 실루엣 계수 칼럼 추가\n",
        "sales['silhouette_coeff'] = silhouette_vals"
      ],
      "execution_count": 16,
      "outputs": []
    },
    {
      "cell_type": "markdown",
      "metadata": {
        "id": "Unt23NAhyl0W"
      },
      "source": [
        "4-2) 모든 데이터의 평균 실루엣 계수를 구하세요."
      ]
    },
    {
      "cell_type": "code",
      "metadata": {
        "id": "J51Ao9TiyjpN",
        "colab": {
          "base_uri": "https://localhost:8080/"
        },
        "outputId": "7ebfb83d-5ce6-4bd1-eb45-ef336e303fd2"
      },
      "source": [
        "#모든 데이터의 평균 실루엣 계수 값을 구하기\n",
        "sales['silhouette_coeff'].mean()"
      ],
      "execution_count": 17,
      "outputs": [
        {
          "output_type": "execute_result",
          "data": {
            "text/plain": [
              "0.5363080287118229"
            ]
          },
          "metadata": {},
          "execution_count": 17
        }
      ]
    },
    {
      "cell_type": "markdown",
      "metadata": {
        "id": "YovPBxuXyxUQ"
      },
      "source": [
        "4-3) 군집별 평균 실루엣 계수를 구하세요."
      ]
    },
    {
      "cell_type": "code",
      "metadata": {
        "id": "XW6o-x1YysJd",
        "colab": {
          "base_uri": "https://localhost:8080/",
          "height": 209
        },
        "outputId": "36bc069f-1dc3-4872-8720-7aa748ac4eb3"
      },
      "source": [
        "#군집별 평균 실루엣 계수 구하기\n",
        "sales.groupby('cluster')['silhouette_coeff'].mean()"
      ],
      "execution_count": 18,
      "outputs": [
        {
          "output_type": "execute_result",
          "data": {
            "text/plain": [
              "cluster\n",
              "0    0.421443\n",
              "1    0.754441\n",
              "2    0.436312\n",
              "Name: silhouette_coeff, dtype: float64"
            ],
            "text/html": [
              "<div>\n",
              "<style scoped>\n",
              "    .dataframe tbody tr th:only-of-type {\n",
              "        vertical-align: middle;\n",
              "    }\n",
              "\n",
              "    .dataframe tbody tr th {\n",
              "        vertical-align: top;\n",
              "    }\n",
              "\n",
              "    .dataframe thead th {\n",
              "        text-align: right;\n",
              "    }\n",
              "</style>\n",
              "<table border=\"1\" class=\"dataframe\">\n",
              "  <thead>\n",
              "    <tr style=\"text-align: right;\">\n",
              "      <th></th>\n",
              "      <th>silhouette_coeff</th>\n",
              "    </tr>\n",
              "    <tr>\n",
              "      <th>cluster</th>\n",
              "      <th></th>\n",
              "    </tr>\n",
              "  </thead>\n",
              "  <tbody>\n",
              "    <tr>\n",
              "      <th>0</th>\n",
              "      <td>0.421443</td>\n",
              "    </tr>\n",
              "    <tr>\n",
              "      <th>1</th>\n",
              "      <td>0.754441</td>\n",
              "    </tr>\n",
              "    <tr>\n",
              "      <th>2</th>\n",
              "      <td>0.436312</td>\n",
              "    </tr>\n",
              "  </tbody>\n",
              "</table>\n",
              "</div><br><label><b>dtype:</b> float64</label>"
            ]
          },
          "metadata": {},
          "execution_count": 18
        }
      ]
    }
  ]
}