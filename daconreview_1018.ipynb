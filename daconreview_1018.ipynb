{
  "nbformat": 4,
  "nbformat_minor": 0,
  "metadata": {
    "colab": {
      "provenance": []
    },
    "kernelspec": {
      "name": "python3",
      "display_name": "Python 3"
    },
    "language_info": {
      "name": "python"
    }
  },
  "cells": [
    {
      "cell_type": "markdown",
      "source": [
        "*1018 수상작 리뷰*\n",
        "\n",
        "# **2023 전력사용량 예측 AI 경진대회**\n",
        "\n",
        "[https://dacon.io/competitions/official/236125/codeshare/8685?page=1&dtype=vote](https://dacon.io/competitions/official/236125/codeshare/8685?page=1&dtype=vote)\n",
        "\n",
        "\n",
        "- 데이터\n",
        "    - train.csv\n",
        "        - train 데이터 : 100개 건물들의 2022년 06월 01일부터 2022년 08월 24일까지의 데이터\n",
        "        - 일시별 기온, 강수량, 풍속, 습도, 일조, 일사 정보 포함\n",
        "        - 전력사용량(kWh) 포함\n",
        "    - building_info.csv\n",
        "        - 100개 건물 정보\n",
        "        - 건물 번호, 건물 유형, 연면적, 냉방 면적, 태양광 용량, ESS 저장 용량, PCS 용량\n",
        "    - test.csv\n",
        "        - test 데이터 : 100개 건물들의 2022년 08월 25일부터 2022년 08월 31일까지의 데이터\n",
        "        - 일시별 기온, 강수량, 풍속, 습도의 예보 정보\n",
        "    - sample_submission.csv\n",
        "        - 제출을 위한 양식\n",
        "        - 100개 건물들의 2022년 08월 25일부터 2022년 08월 31일까지의 전력사용량(kWh)을 예측\n",
        "        - num_date_time은 건물번호와 시간으로 구성된 ID\n",
        "        - 해당 ID에 맞춰 전력사용량 예측값을 answer 컬럼에 기입해야 함\n",
        "\n",
        "- 변수\n",
        "    - num_date_time\n",
        "    - 건물번호\n",
        "    - 일시\n",
        "    - 기온\n",
        "    - 강수량\n",
        "    - 풍속\n",
        "    - 습도\n",
        "    - 일조\n",
        "    - 일사\n",
        "    - 전력소비량\n",
        "\n",
        "---\n",
        "\n",
        "- 코드 흐름\n",
        "    - 라이브러리 임포트\n",
        "    - 랜덤시드 픽스\n",
        "    - 데이터 로드\n",
        "    - 학습데이터 pre-processing\n",
        "    - 모델링\n",
        "        - validation 함수\n",
        "        - Base model\n",
        "            - hyper parameter 조절\n",
        "        - Multi Models by building num\n",
        "             - hyper parameter 조절\n",
        "        - Add Features\n",
        "            - weekday\n",
        "                - hyper paramter 조절\n",
        "            - 전날과의 기온, 풍속 차이\n",
        "                - hyper paramter 조절\n",
        "            - 1주일 전 전력소모값\n",
        "            - 7일전 24시간동안의 전력소모량\n",
        "    - Make Submission\n",
        "    - 결론\n",
        "    - TODO\n",
        "    - Epilog\n",
        "\n",
        "---\n",
        "\n",
        "- 차별점, 배울 점\n",
        "    - LGBM모델을 사용\n",
        "    - feature를 추가해가며 모델의 hyper parameter 튜닝을 중점적으로 진행함.\n",
        "    - 예측을 잘못한 모델을 뽑아보고, 성능을 살펴봄\n",
        "    - n_estimators 값을 조절해서 score가 어떻게 변화하는지 확인하고, 언제 성능이 괜찮은지 찾아나감\n",
        "    - validations score를 높이기 위해 모델을 학습시킴.\n",
        "    - EDA를 통해 어떤 변수가 의미있는지 알아보고 적절한 feature를 생성하여 모델 학습에 활용한 점을 배우고 싶음."
      ],
      "metadata": {
        "id": "pJqhkgXo2Fty"
      }
    },
    {
      "cell_type": "code",
      "execution_count": null,
      "metadata": {
        "id": "yjcnn8IP2Anb"
      },
      "outputs": [],
      "source": []
    }
  ]
}