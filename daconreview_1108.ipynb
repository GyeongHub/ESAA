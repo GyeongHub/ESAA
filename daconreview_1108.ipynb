{
  "nbformat": 4,
  "nbformat_minor": 0,
  "metadata": {
    "colab": {
      "provenance": []
    },
    "kernelspec": {
      "name": "python3",
      "display_name": "Python 3"
    },
    "language_info": {
      "name": "python"
    }
  },
  "cells": [
    {
      "cell_type": "markdown",
      "source": [
        "*1108 수상작 리뷰*\n",
        "\n",
        "# **월간 데이콘 항공편 지연 예측 AI 경진대회**\n",
        "\n",
        "[https://dacon.io/competitions/official/236094/codeshare/8374?page=1&dtype=recent](https://dacon.io/competitions/official/236094/codeshare/8374?page=1&dtype=recent)"
      ],
      "metadata": {
        "id": "LhD1ZJQy2cru"
      }
    },
    {
      "cell_type": "markdown",
      "source": [
        "- 데이터\n",
        "    - train\n",
        "        - ID : 샘플 고유 id\n",
        "        - 항공편 운항 관련 정보\n",
        "        - Month: 해당 항공편의 출발 월\n",
        "        - Day_of_Month: Month에 해당하는 월의 날짜\n",
        "        - Estimated_Departure_Time: 전산 시스템을 바탕으로 측정된 비행기의 출발 시간 (현지 시각, HH:MM 형식)\n",
        "        - Estimated_Arrival_Time: 전산 시스템을 바탕으로 측정된 비행기의 도착 시간 (현지 시각, HH:MM 형식)\n",
        "        - Cancelled: 해당 항공편의 취소 여부 (0: 취소되지 않음, 1: 취소됨)\n",
        "        - Diverted: 해당 항공편의 경유 여부 (0: 취소되지 않음, 1: 취소됨)\n",
        "        - Origin_Airport: 해당 항공편 출발 공항의 고유 코드 (IATA 공항 코드)\n",
        "        - Origin_Airport_ID: 해당 항공편 출발 공항의 고유 ID (US DOT ID)\n",
        "        - Origin_State: 해당 항공편 출발 공항이 위치한 주의 이름\n",
        "        - Destination_Airport: 해당 항공편 도착 공항의 고유 코드 (IATA 공항 코드)\n",
        "        - Destination_Airport_ID: 해당 항공편 도착 공항의 고유 ID (US DOT ID)\n",
        "        - Destination_State: 해당 항공편 도착 공항이 위치한 주의 이름\n",
        "        - Distance: 출발 공항과 도착 공항 사이의 거리 (mile 단위)\n",
        "        - Airline: 해당 항공편을 운항하는 항공사\n",
        "        - Carrier_Code(IATA): 해당 항공편을 운항하는 항공사의 고유 코드\n",
        "        - (IATA 공항 코드, 단 다른 항공사가 같은 코드를 보유할 수도 있음)\n",
        "        - Carrier_ID(DOT): 해당 항공편을 운항하는 항공사의 고유 ID (US DOT ID)\n",
        "        - Tail_Number: 해당 항공편을 운항하는 항공기의 고유 등록번호\n",
        "        - Delay: 항공편 지연 여부 (Not_Delayed, Delayed)\n",
        "            - 예측해야 하는 타깃\n",
        "            - 다수의 데이터에 레이블이 존재하지 않음\n",
        "            - 준지도학습을 통해 레이블링 가능\n",
        "    - test\n",
        "        - ID : 샘플 고유 id\n",
        "        - 항공편 운항 관련 정보\n",
        "        - Month: 해당 항공편의 출발 월\n",
        "        - Day_of_Month: Month에 해당하는 월의 날짜\n",
        "        - Estimated_Departure_Time: 전산 시스템을 바탕으로 측정된 비행기의 출발 시간 (현지 시각, HH:MM 형식)\n",
        "        - Estimated_Arrival_Time: 전산 시스템을 바탕으로 측정된 비행기의 도착 시간 (현지 시각, HH:MM 형식)\n",
        "        - Cancelled: 해당 항공편의 취소 여부 (0: 취소되지 않음, 1: 취소됨)\n",
        "        - Diverted: 해당 항공편의 경유 여부 (0: 취소되지 않음, 1: 취소됨)\n",
        "        - Origin_Airport: 해당 항공편 출발 공항의 고유 코드 (IATA 공항 코드)\n",
        "        - Origin_Airport_ID: 해당 항공편 출발 공항의 고유 ID (US DOT ID)\n",
        "        - Origin_State: 해당 항공편 출발 공항이 위치한 주의 이름\n",
        "        - Destination_Airport: 해당 항공편 도착 공항의 고유 코드 (IATA 공항 코드)\n",
        "        - Destination_Airport_ID: 해당 항공편 도착 공항의 고유 ID (US DOT ID)\n",
        "        - Destination_State: 해당 항공편 도착 공항이 위치한 주의 이름\n",
        "        - Distance: 출발 공항과 도착 공항 사이의 거리 (mile 단위)\n",
        "        - Airline: 해당 항공편을 운항하는 항공사\n",
        "        - Carrier_Code(IATA): 해당 항공편을 운항하는 항공사의 고유 코드\n",
        "        - (IATA 공항 코드, 단 다른 항공사가 같은 코드를 보유할 수도 있음)\n",
        "        - Carrier_ID(DOT): 해당 항공편을 운항하는 항공사의 고유 ID (US DOT ID)\n",
        "        - Tail_Number: 해당 항공편을 운항하는 항공기의 고유 등록번호\n",
        "        - Delay: 항공편 지연 여부 (Not_Delayed, Delayed)\n",
        "    - sample_submission.csv [제출양식]\n",
        "        - ID : 샘플 고유 id\n",
        "        - Not_Delayed: 특정 샘플에 해당하는 항공편이 지연되지 않을 확률\n",
        "        - Delayed: 특정 샘플에 해당하는 항공편이 지연될 확률\n"
      ],
      "metadata": {
        "id": "1wribOSa2vME"
      }
    },
    {
      "cell_type": "markdown",
      "source": [
        "- 코드 흐름\n",
        "    - 패키지 임포트 & 시드 고정\n",
        "    - 전처리\n",
        "        - 불필요한 열 삭제\n",
        "        - 결측값이 존재하는 변수들을 학습 데이터의 최빈값으로 대체\n",
        "        - 질적 변수들을 수치화\n",
        "    - 모델링\n",
        "        - XGBClassifier 모델링\n",
        "    - 예측값 할당\n",
        "        - y_pred = xgb.predict_proba(test)\n",
        "        - submission에 예측값 저장"
      ],
      "metadata": {
        "id": "fEeOGcB63s4v"
      }
    },
    {
      "cell_type": "markdown",
      "source": [
        "- 차별점, 배울점\n",
        "    - train과 test 데이터프레임에서 Origin_Airport_ID와 Distance의 조합을 기반으로 그룹화하여, Origin_State와 Destination_State의 최빈값을 구한 후, 이를 agg 열로 병합하는 과정.\n",
        "    - temp와 temp_test를 통해 원본 데이터보다 요약된 형태를 저장한 점이 인상깊다. Origin_Airport_ID와 Distance 조합에 대해 Origin_State와 Destination_State의 최빈값만을 가지기 때문이다."
      ],
      "metadata": {
        "id": "5jgrR__M4YlB"
      }
    },
    {
      "cell_type": "code",
      "execution_count": null,
      "metadata": {
        "id": "-uiUSErC2Wn3"
      },
      "outputs": [],
      "source": []
    }
  ]
}