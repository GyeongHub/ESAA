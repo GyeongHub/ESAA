{
  "nbformat": 4,
  "nbformat_minor": 0,
  "metadata": {
    "colab": {
      "provenance": []
    },
    "kernelspec": {
      "name": "python3",
      "display_name": "Python 3"
    },
    "language_info": {
      "name": "python"
    }
  },
  "cells": [
    {
      "cell_type": "markdown",
      "source": [
        "*1115 수상작 리뷰*\n",
        "\n",
        "# **제주도 도로 교통량 예측 AI 경진대회**\n",
        "\n",
        "[https://dacon.io/competitions/official/235985/codeshare/7064?page=1&dtype=recent](https://dacon.io/competitions/official/235985/codeshare/7064?page=1&dtype=recent)"
      ],
      "metadata": {
        "id": "VsXrnzJdap-g"
      }
    },
    {
      "cell_type": "markdown",
      "source": [
        "- 데이터\n",
        "    - train.csv\n",
        "        - 2022년 8월 이전 데이터만 존재 (단, 날짜가 모두 연속적이지 않음)\n",
        "        - 4,701,217개의 데이터\n",
        "        - id : 샘플 별 고유 id\n",
        "        - 날짜, 시간, 교통 및 도로구간 등 정보\n",
        "        - target : 도로의 차량 평균 속도(km)\n",
        "\n",
        "    - test.csv\n",
        "        - 2022년 8월 데이터만 존재 (단, 날짜가 모두 연속적이지 않음)\n",
        "        - 291,241개의 데이터\n",
        "        - id : 샘플 별 고유 id\n",
        "        - 날짜, 시간, 교통 및 도로구간 등 정보\n",
        "\n",
        "    - data_info.csv\n",
        "        - 데이터의 각 Column별 추가 설명\n",
        "\n",
        "    - sample_submission.csv\n",
        "        - id : 샘플 별 고유 id\n",
        "        - target : 도로의 차량 평균 속도(km)\n",
        "\n",
        "- 코드 흐름\n",
        "    - Import\n",
        "    - csv to parquet\n",
        "    - 데이터 불러오기\n",
        "    - 분석에서 제외\n",
        "        - 'road_in_use', 'vehicle_restricted', 'height_restricted'\n",
        "    - 결측치 확인\n",
        "        - 시간 변수\n",
        "        - 공휴일\n",
        "             - 공공데이터포털 특일 정보에서 공휴일 데이터를 가져와서 데이터프레임으로 정리\n",
        "             - 지리 데이터 (공간 파생변수)\n",
        "\n",
        "    - 범주형 변수 인코딩\n",
        "    - 제주도 관광객 입도현황 데이터 추가\n",
        "    - Parquet으로 저장\n",
        "    - 변수 선택\n",
        "    \n",
        "    - Feature Scaling\n",
        "    - Train-Test Split\n",
        "    - **LightGBM**\n",
        "        - 추론\n",
        "        - Submission\n",
        "    - **XGBoost**\n",
        "        - Train-Test Split\n",
        "        - 추론\n",
        "        - Submission\n",
        "    - Ensemble"
      ],
      "metadata": {
        "id": "FORexY6VbwME"
      }
    },
    {
      "cell_type": "markdown",
      "source": [
        "- 차별점, 배울점\n",
        "    - 데이터를 불러오고 전처리하는 과정, 변수를 선택하고 정규화하는 과정 외에 외부 데이터를 추가한 점이 인상 깊다.\n",
        "    - 이 코드에서는 공공데이터포털 특일 정보의 공휴일 데이터, 제주도 관광객 입도현황 데이터, 그리고 무인교통단속카메라 위치 등을 불러와 데이터프레임으로 정리하였다.\n",
        "    - 이 코드에서는 과적합 방지를 위해 부스팅 앙상블을 사용하였는데, lightGBM에서 두번의 추론을 거치고 XGBoost까지 총 세 번의 모델을 활용한 점을 추후에 나도 활용해보고 싶다."
      ],
      "metadata": {
        "id": "7EIcQxwKe7uC"
      }
    }
  ]
}