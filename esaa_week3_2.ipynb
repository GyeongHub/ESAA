{
  "nbformat": 4,
  "nbformat_minor": 0,
  "metadata": {
    "colab": {
      "provenance": []
    },
    "kernelspec": {
      "name": "python3",
      "display_name": "Python 3"
    },
    "language_info": {
      "name": "python"
    }
  },
  "cells": [
    {
      "cell_type": "markdown",
      "source": [
        "*두잇 판다스 입문 p.241~p.271*\n",
        "\n",
        "\n",
        "> **12-1. datetime 오브젝트**\n",
        "\n",
        "\n",
        "datetime 라이브러리: 날짜와 시간을 처리하는 다양한 기능을 제공하는 파이썬 라이브러리\n",
        "\n",
        "1. date 오브젝트: 날짜를 처리\n",
        "\n",
        "2. time 오브젝트: 시간을 처리\n",
        "\n",
        "3. datetime 오브젝트: 날짜와 시간을 처리"
      ],
      "metadata": {
        "id": "nvk4uihJ_bTM"
      }
    },
    {
      "cell_type": "code",
      "source": [
        "import pandas as pd\n",
        "import numpy as np\n",
        "import matplotlib.pyplot as plt\n",
        "import seaborn as sns\n",
        "import os"
      ],
      "metadata": {
        "id": "4jHsRFpICz-k"
      },
      "execution_count": 1,
      "outputs": []
    },
    {
      "cell_type": "code",
      "execution_count": 2,
      "metadata": {
        "colab": {
          "base_uri": "https://localhost:8080/"
        },
        "id": "Bc6eiGdb_VCT",
        "outputId": "0077b464-e35f-42f9-a53a-b58be4a8ca53"
      },
      "outputs": [
        {
          "output_type": "stream",
          "name": "stdout",
          "text": [
            "2024-09-22 07:00:17.278666\n",
            "2024-09-22 07:00:17.282077\n",
            "2024-09-22 07:00:17.282825\n",
            "1970-01-01 00:00:00\n",
            "1970-12-12 13:24:34\n",
            "19988 days, 7:00:17.282825\n",
            "<class 'datetime.timedelta'>\n",
            "-19989 days, 16:59:42.717175\n",
            "<class 'datetime.timedelta'>\n"
          ]
        }
      ],
      "source": [
        "# datetime 오브젝트 사용하기\n",
        "\n",
        "from datetime import datetime\n",
        "\n",
        "now1 = datetime.now()\n",
        "print(now1)\n",
        "\n",
        "now2 = datetime.today()\n",
        "print(now2)\n",
        "\n",
        "t1 = datetime.now()\n",
        "t2 = datetime(1970, 1, 1)\n",
        "t3 = datetime(1970, 12, 12, 13, 24, 34)\n",
        "\n",
        "print(t1)\n",
        "print(t2)\n",
        "print(t3)\n",
        "\n",
        "diff1 = t1 - t2\n",
        "\n",
        "print(diff1)\n",
        "print(type(diff1))\n",
        "\n",
        "diff2 = t2 - t1\n",
        "\n",
        "print(diff2)\n",
        "print(type(diff2))"
      ]
    },
    {
      "cell_type": "markdown",
      "source": [
        "**datetime 오브젝트로 변환하기-to_datetime 메서드**"
      ],
      "metadata": {
        "id": "4r4_yZWUiPof"
      }
    },
    {
      "cell_type": "code",
      "source": [
        "# 문자열을 datetime 오브젝트로 변환하기\n",
        "import pandas as pd\n",
        "import os\n",
        "\n",
        "from google.colab import drive\n",
        "drive.mount('/content/drive')\n",
        "\n",
        "ebola = pd.read_csv('/content/drive/MyDrive/ESAA/country_timeseries.csv')\n",
        "print(ebola.info())\n",
        "\n",
        "ebola['date_dt'] = pd.to_datetime(ebola['Date'])\n",
        "print(ebola.info())\n",
        "\n",
        "test_df1 = pd.DataFrame({'order_day':['01/01/15', '02/01/15', '03/01/15']})\n",
        "test_df1['date_dt1'] = pd.to_datetime(test_df1['order_day'], format='%d/%m/%y')\n",
        "test_df1['date_dt2'] = pd.to_datetime(test_df1['order_day'], format='%m/%d/%y')\n",
        "test_df1['date_dt3'] = pd.to_datetime(test_df1['order_day'], format='%y/%m/%d')\n",
        "print(test_df1)\n",
        "\n",
        "test_df2 = pd.DataFrame({'order_day':['01-01-15', '02-01-15', '03-01-15']})\n",
        "test_df2['date_dt'] = pd.to_datetime(test_df2['order_day'], format='%d-%m-%y')\n",
        "print(test_df2)"
      ],
      "metadata": {
        "colab": {
          "base_uri": "https://localhost:8080/"
        },
        "id": "po-CogYRiJU8",
        "outputId": "2e7c35e4-aa2f-4b8e-e492-83e949e5042b"
      },
      "execution_count": 4,
      "outputs": [
        {
          "output_type": "stream",
          "name": "stdout",
          "text": [
            "Mounted at /content/drive\n",
            "<class 'pandas.core.frame.DataFrame'>\n",
            "RangeIndex: 122 entries, 0 to 121\n",
            "Data columns (total 18 columns):\n",
            " #   Column               Non-Null Count  Dtype  \n",
            "---  ------               --------------  -----  \n",
            " 0   Date                 122 non-null    object \n",
            " 1   Day                  122 non-null    int64  \n",
            " 2   Cases_Guinea         93 non-null     float64\n",
            " 3   Cases_Liberia        83 non-null     float64\n",
            " 4   Cases_SierraLeone    87 non-null     float64\n",
            " 5   Cases_Nigeria        38 non-null     float64\n",
            " 6   Cases_Senegal        25 non-null     float64\n",
            " 7   Cases_UnitedStates   18 non-null     float64\n",
            " 8   Cases_Spain          16 non-null     float64\n",
            " 9   Cases_Mali           12 non-null     float64\n",
            " 10  Deaths_Guinea        92 non-null     float64\n",
            " 11  Deaths_Liberia       81 non-null     float64\n",
            " 12  Deaths_SierraLeone   87 non-null     float64\n",
            " 13  Deaths_Nigeria       38 non-null     float64\n",
            " 14  Deaths_Senegal       22 non-null     float64\n",
            " 15  Deaths_UnitedStates  18 non-null     float64\n",
            " 16  Deaths_Spain         16 non-null     float64\n",
            " 17  Deaths_Mali          12 non-null     float64\n",
            "dtypes: float64(16), int64(1), object(1)\n",
            "memory usage: 17.3+ KB\n",
            "None\n",
            "<class 'pandas.core.frame.DataFrame'>\n",
            "RangeIndex: 122 entries, 0 to 121\n",
            "Data columns (total 19 columns):\n",
            " #   Column               Non-Null Count  Dtype         \n",
            "---  ------               --------------  -----         \n",
            " 0   Date                 122 non-null    object        \n",
            " 1   Day                  122 non-null    int64         \n",
            " 2   Cases_Guinea         93 non-null     float64       \n",
            " 3   Cases_Liberia        83 non-null     float64       \n",
            " 4   Cases_SierraLeone    87 non-null     float64       \n",
            " 5   Cases_Nigeria        38 non-null     float64       \n",
            " 6   Cases_Senegal        25 non-null     float64       \n",
            " 7   Cases_UnitedStates   18 non-null     float64       \n",
            " 8   Cases_Spain          16 non-null     float64       \n",
            " 9   Cases_Mali           12 non-null     float64       \n",
            " 10  Deaths_Guinea        92 non-null     float64       \n",
            " 11  Deaths_Liberia       81 non-null     float64       \n",
            " 12  Deaths_SierraLeone   87 non-null     float64       \n",
            " 13  Deaths_Nigeria       38 non-null     float64       \n",
            " 14  Deaths_Senegal       22 non-null     float64       \n",
            " 15  Deaths_UnitedStates  18 non-null     float64       \n",
            " 16  Deaths_Spain         16 non-null     float64       \n",
            " 17  Deaths_Mali          12 non-null     float64       \n",
            " 18  date_dt              122 non-null    datetime64[ns]\n",
            "dtypes: datetime64[ns](1), float64(16), int64(1), object(1)\n",
            "memory usage: 18.2+ KB\n",
            "None\n",
            "  order_day   date_dt1   date_dt2   date_dt3\n",
            "0  01/01/15 2015-01-01 2015-01-01 2001-01-15\n",
            "1  02/01/15 2015-01-02 2015-02-01 2002-01-15\n",
            "2  03/01/15 2015-01-03 2015-03-01 2003-01-15\n",
            "  order_day    date_dt\n",
            "0  01-01-15 2015-01-01\n",
            "1  02-01-15 2015-01-02\n",
            "2  03-01-15 2015-01-03\n"
          ]
        }
      ]
    },
    {
      "cell_type": "markdown",
      "source": [
        "**시간 형식 지정자**\n",
        "\n",
        "p.245"
      ],
      "metadata": {
        "id": "tlNFxQssi9w6"
      }
    },
    {
      "cell_type": "code",
      "source": [
        "now = datetime.now()\n",
        "print(now)\n",
        "\n",
        "nowDate = now.strftime('%Y-%m-%d')\n",
        "print(nowDate)\n",
        "\n",
        "nowTime = now.strftime('%H:%M:%S')\n",
        "print(nowTime)\n",
        "\n",
        "nowDatetime = now.strftime('%Y-%m-%d %H:%M:%S')\n",
        "print(nowDatetime)"
      ],
      "metadata": {
        "colab": {
          "base_uri": "https://localhost:8080/"
        },
        "id": "98rxk9GHjNqH",
        "outputId": "6e2440b3-79b1-4301-8422-fc95a372eed9"
      },
      "execution_count": 5,
      "outputs": [
        {
          "output_type": "stream",
          "name": "stdout",
          "text": [
            "2024-09-22 07:01:49.848366\n",
            "2024-09-22\n",
            "07:01:49\n",
            "2024-09-22 07:01:49\n"
          ]
        }
      ]
    },
    {
      "cell_type": "markdown",
      "source": [
        "**datetime 오브젝트로 변환하기-read_csv 메서드**"
      ],
      "metadata": {
        "id": "DVEy5wT6jZSP"
      }
    },
    {
      "cell_type": "code",
      "source": [
        "# datetime 오브젝트로 변환하려는 열을 지정해 데이터집합 불러오기\n",
        "ebola1 = pd.read_csv('/content/drive/MyDrive/ESAA/country_timeseries.csv', parse_dates=['Date'])\n",
        "print(ebola1.info())"
      ],
      "metadata": {
        "colab": {
          "base_uri": "https://localhost:8080/"
        },
        "id": "22T6oyZ3jepu",
        "outputId": "26b40121-b8b2-45f9-f947-2fd5c2315f7c"
      },
      "execution_count": 6,
      "outputs": [
        {
          "output_type": "stream",
          "name": "stdout",
          "text": [
            "<class 'pandas.core.frame.DataFrame'>\n",
            "RangeIndex: 122 entries, 0 to 121\n",
            "Data columns (total 18 columns):\n",
            " #   Column               Non-Null Count  Dtype         \n",
            "---  ------               --------------  -----         \n",
            " 0   Date                 122 non-null    datetime64[ns]\n",
            " 1   Day                  122 non-null    int64         \n",
            " 2   Cases_Guinea         93 non-null     float64       \n",
            " 3   Cases_Liberia        83 non-null     float64       \n",
            " 4   Cases_SierraLeone    87 non-null     float64       \n",
            " 5   Cases_Nigeria        38 non-null     float64       \n",
            " 6   Cases_Senegal        25 non-null     float64       \n",
            " 7   Cases_UnitedStates   18 non-null     float64       \n",
            " 8   Cases_Spain          16 non-null     float64       \n",
            " 9   Cases_Mali           12 non-null     float64       \n",
            " 10  Deaths_Guinea        92 non-null     float64       \n",
            " 11  Deaths_Liberia       81 non-null     float64       \n",
            " 12  Deaths_SierraLeone   87 non-null     float64       \n",
            " 13  Deaths_Nigeria       38 non-null     float64       \n",
            " 14  Deaths_Senegal       22 non-null     float64       \n",
            " 15  Deaths_UnitedStates  18 non-null     float64       \n",
            " 16  Deaths_Spain         16 non-null     float64       \n",
            " 17  Deaths_Mali          12 non-null     float64       \n",
            "dtypes: datetime64[ns](1), float64(16), int64(1)\n",
            "memory usage: 17.3 KB\n",
            "None\n"
          ]
        }
      ]
    },
    {
      "cell_type": "markdown",
      "source": [
        "**datetime 오브젝트에서 날짜 정보 추출하기**"
      ],
      "metadata": {
        "id": "e-PFAHNWCW3I"
      }
    },
    {
      "cell_type": "code",
      "source": [
        "# 문자열로 저장된 날짜를 시리즈에 담아 datetime 오브젝트로 변환\n",
        "date_series = pd.Series(['2018-05-16', '2018-05-17', '2018-05-18'])\n",
        "d1 = pd.to_datetime(date_series)\n",
        "print(d1)"
      ],
      "metadata": {
        "colab": {
          "base_uri": "https://localhost:8080/"
        },
        "id": "QsqTEbeoCaMf",
        "outputId": "bb152d4d-adde-4d3e-ece6-53ae238f297c"
      },
      "execution_count": 7,
      "outputs": [
        {
          "output_type": "stream",
          "name": "stdout",
          "text": [
            "0   2018-05-16\n",
            "1   2018-05-17\n",
            "2   2018-05-18\n",
            "dtype: datetime64[ns]\n"
          ]
        }
      ]
    },
    {
      "cell_type": "code",
      "source": [
        "# datetime 오브젝트의 year, month, day 속성을 이용해 년, 월, 일 정보 추출\n",
        "print(d1[0].year)\n",
        "print(d1[0].month)\n",
        "print(d1[0].day)"
      ],
      "metadata": {
        "colab": {
          "base_uri": "https://localhost:8080/"
        },
        "id": "vdinlNhTC598",
        "outputId": "38d96e18-1612-4f11-ef9a-066d21ec8780"
      },
      "execution_count": 8,
      "outputs": [
        {
          "output_type": "stream",
          "name": "stdout",
          "text": [
            "2018\n",
            "5\n",
            "16\n"
          ]
        }
      ]
    },
    {
      "cell_type": "markdown",
      "source": [
        "**dt 접근자 사용하기**"
      ],
      "metadata": {
        "id": "FEQpfp2tE3X9"
      }
    },
    {
      "cell_type": "code",
      "source": [
        "# ebola 데이터집합 불러와서 Date열을 datetime 오브젝트로 변환 후, 새로운 열로 추가\n",
        "\n",
        "ebola = pd.read_csv('/content/drive/MyDrive/ESAA/country_timeseries.csv')\n",
        "ebola['date_dt'] = pd.to_datetime(ebola['Date'])"
      ],
      "metadata": {
        "id": "BdW1zwZfE7NB"
      },
      "execution_count": 9,
      "outputs": []
    },
    {
      "cell_type": "code",
      "source": [
        "# dt 접근자 사용X, 인덱스가 3인 데이터의 년, 월, 일 추출\n",
        "# 인덱스로 접근해야 하기 때문에 불편!\n",
        "print(ebola[['Date', 'date_dt']].head())\n",
        "\n",
        "print(ebola['date_dt'][3].year)\n",
        "print(ebola['date_dt'][3].month)\n",
        "print(ebola['date_dt'][3].day)"
      ],
      "metadata": {
        "colab": {
          "base_uri": "https://localhost:8080/"
        },
        "id": "cwQyTt6gGZLa",
        "outputId": "3e336db4-a85f-454f-bee3-3183ba53fe9c"
      },
      "execution_count": 10,
      "outputs": [
        {
          "output_type": "stream",
          "name": "stdout",
          "text": [
            "         Date    date_dt\n",
            "0    1/5/2015 2015-01-05\n",
            "1    1/4/2015 2015-01-04\n",
            "2    1/3/2015 2015-01-03\n",
            "3    1/2/2015 2015-01-02\n",
            "4  12/31/2014 2014-12-31\n",
            "2015\n",
            "1\n",
            "2\n"
          ]
        }
      ]
    },
    {
      "cell_type": "code",
      "source": [
        "# dt 접근자로 date_dt 열에 접근 후 year 속성으로 추출\n",
        "ebola['year'] = ebola['date_dt'].dt.year\n",
        "print(ebola[['Date', 'date_dt', 'year']].head())"
      ],
      "metadata": {
        "colab": {
          "base_uri": "https://localhost:8080/"
        },
        "id": "eGszW9HbG3Gi",
        "outputId": "1033d9be-4d75-4233-bd17-3d5c0987db56"
      },
      "execution_count": 11,
      "outputs": [
        {
          "output_type": "stream",
          "name": "stdout",
          "text": [
            "         Date    date_dt  year\n",
            "0    1/5/2015 2015-01-05  2015\n",
            "1    1/4/2015 2015-01-04  2015\n",
            "2    1/3/2015 2015-01-03  2015\n",
            "3    1/2/2015 2015-01-02  2015\n",
            "4  12/31/2014 2014-12-31  2014\n"
          ]
        }
      ]
    },
    {
      "cell_type": "code",
      "source": [
        "# 이를 응용하여 원, 일 데이터 한 번에 추출\n",
        "ebola['month'], ebola['day'] = (ebola['date_dt'].dt.month, ebola['date_dt'].dt.day)\n",
        "print(ebola[['Date', 'date_dt', 'year', 'month', 'day']].head())"
      ],
      "metadata": {
        "colab": {
          "base_uri": "https://localhost:8080/"
        },
        "id": "eOlxuTRJHPms",
        "outputId": "5c6e30ff-9666-4ce8-a1d0-8b7229f03346"
      },
      "execution_count": 12,
      "outputs": [
        {
          "output_type": "stream",
          "name": "stdout",
          "text": [
            "         Date    date_dt  year  month  day\n",
            "0    1/5/2015 2015-01-05  2015      1    5\n",
            "1    1/4/2015 2015-01-04  2015      1    4\n",
            "2    1/3/2015 2015-01-03  2015      1    3\n",
            "3    1/2/2015 2015-01-02  2015      1    2\n",
            "4  12/31/2014 2014-12-31  2014     12   31\n"
          ]
        }
      ]
    },
    {
      "cell_type": "code",
      "source": [
        "# ebola 데이터프레임에 추가된 열의 자료형 출력\n",
        "# date_dt 열은 datetime 오브젝트\n",
        "# 나머지는 정수형\n",
        "print(ebola.info())"
      ],
      "metadata": {
        "colab": {
          "base_uri": "https://localhost:8080/"
        },
        "id": "97o-C8sBHaWg",
        "outputId": "b181959b-4e62-41c9-d40d-5f1bf2dcd6bb"
      },
      "execution_count": 13,
      "outputs": [
        {
          "output_type": "stream",
          "name": "stdout",
          "text": [
            "<class 'pandas.core.frame.DataFrame'>\n",
            "RangeIndex: 122 entries, 0 to 121\n",
            "Data columns (total 22 columns):\n",
            " #   Column               Non-Null Count  Dtype         \n",
            "---  ------               --------------  -----         \n",
            " 0   Date                 122 non-null    object        \n",
            " 1   Day                  122 non-null    int64         \n",
            " 2   Cases_Guinea         93 non-null     float64       \n",
            " 3   Cases_Liberia        83 non-null     float64       \n",
            " 4   Cases_SierraLeone    87 non-null     float64       \n",
            " 5   Cases_Nigeria        38 non-null     float64       \n",
            " 6   Cases_Senegal        25 non-null     float64       \n",
            " 7   Cases_UnitedStates   18 non-null     float64       \n",
            " 8   Cases_Spain          16 non-null     float64       \n",
            " 9   Cases_Mali           12 non-null     float64       \n",
            " 10  Deaths_Guinea        92 non-null     float64       \n",
            " 11  Deaths_Liberia       81 non-null     float64       \n",
            " 12  Deaths_SierraLeone   87 non-null     float64       \n",
            " 13  Deaths_Nigeria       38 non-null     float64       \n",
            " 14  Deaths_Senegal       22 non-null     float64       \n",
            " 15  Deaths_UnitedStates  18 non-null     float64       \n",
            " 16  Deaths_Spain         16 non-null     float64       \n",
            " 17  Deaths_Mali          12 non-null     float64       \n",
            " 18  date_dt              122 non-null    datetime64[ns]\n",
            " 19  year                 122 non-null    int32         \n",
            " 20  month                122 non-null    int32         \n",
            " 21  day                  122 non-null    int32         \n",
            "dtypes: datetime64[ns](1), float64(16), int32(3), int64(1), object(1)\n",
            "memory usage: 19.7+ KB\n",
            "None\n"
          ]
        }
      ]
    },
    {
      "cell_type": "markdown",
      "source": [
        "\n",
        "\n",
        "> **12-2. 사례별 시계열 데이터 계산하기**\n"
      ],
      "metadata": {
        "id": "9waN43sCjvqt"
      }
    },
    {
      "cell_type": "code",
      "source": [
        "# 에볼라 최초 발병일 계산하기\n",
        "\n",
        "print(ebola.iloc[-5:, :5])\n",
        "\n",
        "print(ebola['date_dt'].min())\n",
        "print(type(ebola['date_dt'].min()))\n",
        "\n",
        "ebola['outbreak_d'] = ebola['date_dt'] - ebola['date_dt'].min()\n",
        "print(ebola[['Date', 'Day', 'outbreak_d']].head())"
      ],
      "metadata": {
        "colab": {
          "base_uri": "https://localhost:8080/"
        },
        "id": "2ZNKjlq9j4PS",
        "outputId": "11d9ac9f-1cac-4cdf-ce4a-b395aea62ff9"
      },
      "execution_count": 14,
      "outputs": [
        {
          "output_type": "stream",
          "name": "stdout",
          "text": [
            "          Date  Day  Cases_Guinea  Cases_Liberia  Cases_SierraLeone\n",
            "117  3/27/2014    5         103.0            8.0                6.0\n",
            "118  3/26/2014    4          86.0            NaN                NaN\n",
            "119  3/25/2014    3          86.0            NaN                NaN\n",
            "120  3/24/2014    2          86.0            NaN                NaN\n",
            "121  3/22/2014    0          49.0            NaN                NaN\n",
            "2014-03-22 00:00:00\n",
            "<class 'pandas._libs.tslibs.timestamps.Timestamp'>\n",
            "         Date  Day outbreak_d\n",
            "0    1/5/2015  289   289 days\n",
            "1    1/4/2015  288   288 days\n",
            "2    1/3/2015  287   287 days\n",
            "3    1/2/2015  286   286 days\n",
            "4  12/31/2014  284   284 days\n"
          ]
        }
      ]
    },
    {
      "cell_type": "code",
      "source": [
        "# 파산한 은행 개수 계산하기\n",
        "\n",
        "banks = pd.read_csv('/content/drive/MyDrive/ESAA/banklist.csv')\n",
        "print(banks.head())\n",
        "\n",
        "banks_no_dates = pd.read_csv('/content/drive/MyDrive/ESAA/banklist.csv')\n",
        "print(banks_no_dates.info())\n",
        "\n",
        "#parse_dates 속성을 이용해 문자열로 저장된 두 열을 datetime 오브젝트로 불러옴\n",
        "banks = pd.read_csv('/content/drive/MyDrive/ESAA/banklist.csv', parse_dates=[5, 6])\n",
        "print(banks.info())\n",
        "\n",
        "#dt 접근자와 year, quarter 속성을 이용해 은행이 파산한 연, 분기 새로운 열로 추가\n",
        "banks['closing_quarter'], banks['closing_year'] = (banks['Closing Date'].dt.quarter, banks['Closing Date'].dt.year)\n",
        "print(banks.head())\n",
        "\n",
        "#groupby_= 메서드를 이용해 연도별로 파산한 은행수 구하기\n",
        "closing_year = banks.groupby(['closing_year']).size()\n",
        "print(closing_year)\n",
        "\n",
        "#각 연도별, 분기별 파산한 은행 개수 알아보기\n",
        "#banks 데이터프레임을 연도별로 그룹화 후 분기별로 그룹화\n",
        "closing_year_quarter = banks.groupby(['closing_year', 'closing_quarter']).size()\n",
        "print(closing_year_quarter)"
      ],
      "metadata": {
        "colab": {
          "base_uri": "https://localhost:8080/"
        },
        "id": "pli43XnAkttT",
        "outputId": "3d6aa71f-1432-47bc-c139-d6d393f1830c"
      },
      "execution_count": 21,
      "outputs": [
        {
          "output_type": "stream",
          "name": "stdout",
          "text": [
            "                                           Bank Name                City  ST  \\\n",
            "0                                Fayette County Bank          Saint Elmo  IL   \n",
            "1  Guaranty Bank, (d/b/a BestBank in Georgia & Mi...           Milwaukee  WI   \n",
            "2                                     First NBC Bank         New Orleans  LA   \n",
            "3                                      Proficio Bank  Cottonwood Heights  UT   \n",
            "4                      Seaway Bank and Trust Company             Chicago  IL   \n",
            "\n",
            "    CERT                Acquiring Institution Closing Date Updated Date  \n",
            "0   1802            United Fidelity Bank, fsb    26-May-17     1-Jun-17  \n",
            "1  30003  First-Citizens Bank & Trust Company     5-May-17     1-Jun-17  \n",
            "2  58302                         Whitney Bank    28-Apr-17    23-May-17  \n",
            "3  35495                    Cache Valley Bank     3-Mar-17    18-May-17  \n",
            "4  19328                  State Bank of Texas    27-Jan-17    18-May-17  \n",
            "<class 'pandas.core.frame.DataFrame'>\n",
            "RangeIndex: 551 entries, 0 to 550\n",
            "Data columns (total 7 columns):\n",
            " #   Column                 Non-Null Count  Dtype \n",
            "---  ------                 --------------  ----- \n",
            " 0   Bank Name              551 non-null    object\n",
            " 1   City                   551 non-null    object\n",
            " 2   ST                     551 non-null    object\n",
            " 3   CERT                   551 non-null    int64 \n",
            " 4   Acquiring Institution  551 non-null    object\n",
            " 5   Closing Date           551 non-null    object\n",
            " 6   Updated Date           551 non-null    object\n",
            "dtypes: int64(1), object(6)\n",
            "memory usage: 30.3+ KB\n",
            "None\n",
            "<class 'pandas.core.frame.DataFrame'>\n",
            "RangeIndex: 551 entries, 0 to 550\n",
            "Data columns (total 7 columns):\n",
            " #   Column                 Non-Null Count  Dtype         \n",
            "---  ------                 --------------  -----         \n",
            " 0   Bank Name              551 non-null    object        \n",
            " 1   City                   551 non-null    object        \n",
            " 2   ST                     551 non-null    object        \n",
            " 3   CERT                   551 non-null    int64         \n",
            " 4   Acquiring Institution  551 non-null    object        \n",
            " 5   Closing Date           551 non-null    datetime64[ns]\n",
            " 6   Updated Date           551 non-null    datetime64[ns]\n",
            "dtypes: datetime64[ns](2), int64(1), object(4)\n",
            "memory usage: 30.3+ KB\n",
            "None\n",
            "                                           Bank Name                City  ST  \\\n",
            "0                                Fayette County Bank          Saint Elmo  IL   \n",
            "1  Guaranty Bank, (d/b/a BestBank in Georgia & Mi...           Milwaukee  WI   \n",
            "2                                     First NBC Bank         New Orleans  LA   \n",
            "3                                      Proficio Bank  Cottonwood Heights  UT   \n",
            "4                      Seaway Bank and Trust Company             Chicago  IL   \n",
            "\n",
            "    CERT                Acquiring Institution Closing Date Updated Date  \\\n",
            "0   1802            United Fidelity Bank, fsb   2017-05-26   2017-06-01   \n",
            "1  30003  First-Citizens Bank & Trust Company   2017-05-05   2017-06-01   \n",
            "2  58302                         Whitney Bank   2017-04-28   2017-05-23   \n",
            "3  35495                    Cache Valley Bank   2017-03-03   2017-05-18   \n",
            "4  19328                  State Bank of Texas   2017-01-27   2017-05-18   \n",
            "\n",
            "   closing_quarter  closing_year  \n",
            "0                2          2017  \n",
            "1                2          2017  \n",
            "2                2          2017  \n",
            "3                1          2017  \n",
            "4                1          2017  \n",
            "closing_year\n",
            "2000      2\n",
            "2001      3\n",
            "2002     10\n",
            "2003      3\n",
            "2004      4\n",
            "2007      3\n",
            "2008     25\n",
            "2009    140\n",
            "2010    157\n",
            "2011     92\n",
            "2012     51\n",
            "2013     24\n",
            "2014     18\n",
            "2015      8\n",
            "2016      5\n",
            "2017      6\n",
            "dtype: int64\n",
            "closing_year  closing_quarter\n",
            "2000          4                   2\n",
            "2001          1                   1\n",
            "              2                   1\n",
            "              3                   1\n",
            "2002          1                   6\n",
            "              2                   1\n",
            "              3                   1\n",
            "              4                   2\n",
            "2003          1                   1\n",
            "              2                   1\n",
            "              4                   1\n",
            "2004          1                   3\n",
            "              2                   1\n",
            "2007          1                   1\n",
            "              3                   1\n",
            "              4                   1\n",
            "2008          1                   2\n",
            "              2                   2\n",
            "              3                   9\n",
            "              4                  12\n",
            "2009          1                  21\n",
            "              2                  24\n",
            "              3                  50\n",
            "              4                  45\n",
            "2010          1                  41\n",
            "              2                  45\n",
            "              3                  41\n",
            "              4                  30\n",
            "2011          1                  26\n",
            "              2                  22\n",
            "              3                  26\n",
            "              4                  18\n",
            "2012          1                  16\n",
            "              2                  15\n",
            "              3                  12\n",
            "              4                   8\n",
            "2013          1                   4\n",
            "              2                  12\n",
            "              3                   6\n",
            "              4                   2\n",
            "2014          1                   5\n",
            "              2                   7\n",
            "              3                   2\n",
            "              4                   4\n",
            "2015          1                   4\n",
            "              2                   1\n",
            "              3                   1\n",
            "              4                   2\n",
            "2016          1                   1\n",
            "              2                   2\n",
            "              3                   2\n",
            "2017          1                   3\n",
            "              2                   3\n",
            "dtype: int64\n"
          ]
        },
        {
          "output_type": "stream",
          "name": "stderr",
          "text": [
            "<ipython-input-21-e38f0eda7e95>:10: UserWarning: Could not infer format, so each element will be parsed individually, falling back to `dateutil`. To ensure parsing is consistent and as-expected, please specify a format.\n",
            "  banks = pd.read_csv('/content/drive/MyDrive/ESAA/banklist.csv', parse_dates=[5, 6])\n",
            "<ipython-input-21-e38f0eda7e95>:10: UserWarning: Could not infer format, so each element will be parsed individually, falling back to `dateutil`. To ensure parsing is consistent and as-expected, please specify a format.\n",
            "  banks = pd.read_csv('/content/drive/MyDrive/ESAA/banklist.csv', parse_dates=[5, 6])\n"
          ]
        }
      ]
    },
    {
      "cell_type": "code",
      "source": [
        "#그래프로 그리기\n",
        "import matplotlib.pyplot as plt\n",
        "\n",
        "fig, ax = plt.subplots()\n",
        "closing_year.plot(ax=ax)\n",
        "plt.show()"
      ],
      "metadata": {
        "colab": {
          "base_uri": "https://localhost:8080/",
          "height": 450
        },
        "id": "Adag7-WUnkG7",
        "outputId": "12808235-a031-4abb-8b78-5732a47cf222"
      },
      "execution_count": 24,
      "outputs": [
        {
          "output_type": "display_data",
          "data": {
            "text/plain": [
              "<Figure size 640x480 with 1 Axes>"
            ],
            "image/png": "[encoded data removed]"
          },
          "metadata": {}
        }
      ]
    },
    {
      "cell_type": "code",
      "source": [
        "fig, ax = plt.subplots()\n",
        "closing_year_quarter.plot(ax=ax)\n",
        "plt.show()"
      ],
      "metadata": {
        "colab": {
          "base_uri": "https://localhost:8080/",
          "height": 450
        },
        "id": "F7CcNZIEnwh8",
        "outputId": "c9fa1d04-41a2-4197-ca7c-f7e2f19033ac"
      },
      "execution_count": 25,
      "outputs": [
        {
          "output_type": "display_data",
          "data": {
            "text/plain": [
              "<Figure size 640x480 with 1 Axes>"
            ],
            "image/png": "[encoded data removed]"
          },
          "metadata": {}
        }
      ]
    },
    {
      "cell_type": "code",
      "source": [
        "# 테슬라 주식 데이터로 시간 계산하기\n",
        "\n",
        "!pip_install_pandas_datareader\n",
        "\n",
        "tesla = pd.read_csv('/content/drive/MyDrive/ESAA/tesla_stock_quandl.csv')\n",
        "print(tesla.head())\n",
        "\n",
        "tesla = pd.read_csv('/content/drive/MyDrive/ESAA/tesla_stock_quandl.csv', parse_dates=[0])\n",
        "print(tesla.info())"
      ],
      "metadata": {
        "colab": {
          "base_uri": "https://localhost:8080/"
        },
        "id": "pK-H7gScn7da",
        "outputId": "add74643-627c-4ede-c6f1-64522392b087"
      },
      "execution_count": 32,
      "outputs": [
        {
          "output_type": "stream",
          "name": "stdout",
          "text": [
            "/bin/bash: line 1: pip_install_pandas_datareader: command not found\n",
            "         Date    Open    High     Low   Close      Volume  ExDividend  \\\n",
            "0  2018-03-27  304.00  304.27  277.18  279.18  13696168.0         0.0   \n",
            "1  2018-03-26  307.34  307.59  291.36  304.18   8324639.0         0.0   \n",
            "2  2018-03-23  311.25  311.61  300.45  301.54   6600538.0         0.0   \n",
            "3  2018-03-22  313.89  318.82  308.18  309.10   4914307.0         0.0   \n",
            "4  2018-03-21  310.25  322.44  310.19  316.53   5927881.0         0.0   \n",
            "\n",
            "   SplitRatio  AdjOpen  AdjHigh  AdjLow  AdjClose   AdjVolume  \n",
            "0         1.0   304.00   304.27  277.18    279.18  13696168.0  \n",
            "1         1.0   307.34   307.59  291.36    304.18   8324639.0  \n",
            "2         1.0   311.25   311.61  300.45    301.54   6600538.0  \n",
            "3         1.0   313.89   318.82  308.18    309.10   4914307.0  \n",
            "4         1.0   310.25   322.44  310.19    316.53   5927881.0  \n",
            "<class 'pandas.core.frame.DataFrame'>\n",
            "RangeIndex: 1949 entries, 0 to 1948\n",
            "Data columns (total 13 columns):\n",
            " #   Column      Non-Null Count  Dtype         \n",
            "---  ------      --------------  -----         \n",
            " 0   Date        1949 non-null   datetime64[ns]\n",
            " 1   Open        1949 non-null   float64       \n",
            " 2   High        1949 non-null   float64       \n",
            " 3   Low         1949 non-null   float64       \n",
            " 4   Close       1949 non-null   float64       \n",
            " 5   Volume      1949 non-null   float64       \n",
            " 6   ExDividend  1949 non-null   float64       \n",
            " 7   SplitRatio  1949 non-null   float64       \n",
            " 8   AdjOpen     1949 non-null   float64       \n",
            " 9   AdjHigh     1949 non-null   float64       \n",
            " 10  AdjLow      1949 non-null   float64       \n",
            " 11  AdjClose    1949 non-null   float64       \n",
            " 12  AdjVolume   1949 non-null   float64       \n",
            "dtypes: datetime64[ns](1), float64(12)\n",
            "memory usage: 198.1 KB\n",
            "None\n"
          ]
        }
      ]
    },
    {
      "cell_type": "code",
      "source": [
        "# dt 접근자를 사용하여 불린 추출로 2010년 6월 데이터 추출\n",
        "print(tesla.loc[(tesla.Date.dt.year == 2010) & (tesla.Date.dt.month == 6)])"
      ],
      "metadata": {
        "colab": {
          "base_uri": "https://localhost:8080/"
        },
        "id": "pZ1YClWys-rQ",
        "outputId": "bd2251e7-365b-4bc8-b49f-2cb3570acff0"
      },
      "execution_count": 33,
      "outputs": [
        {
          "output_type": "stream",
          "name": "stdout",
          "text": [
            "           Date   Open     High    Low  Close      Volume  ExDividend  \\\n",
            "1947 2010-06-30  25.79  30.4192  23.30  23.83  17187100.0         0.0   \n",
            "1948 2010-06-29  19.00  25.0000  17.54  23.89  18766300.0         0.0   \n",
            "\n",
            "      SplitRatio  AdjOpen  AdjHigh  AdjLow  AdjClose   AdjVolume  \n",
            "1947         1.0    25.79  30.4192   23.30     23.83  17187100.0  \n",
            "1948         1.0    19.00  25.0000   17.54     23.89  18766300.0  \n"
          ]
        }
      ]
    },
    {
      "cell_type": "code",
      "source": [
        "# datetime 오브젝트와 인덱스 - DatetimeIndex\n",
        "\n",
        "tesla.index = tesla['Date']\n",
        "print(tesla.index)"
      ],
      "metadata": {
        "colab": {
          "base_uri": "https://localhost:8080/"
        },
        "id": "KvJhhrcxtq1w",
        "outputId": "430dae6c-a944-4407-d867-4276dd049dd0"
      },
      "execution_count": 34,
      "outputs": [
        {
          "output_type": "stream",
          "name": "stdout",
          "text": [
            "DatetimeIndex(['2018-03-27', '2018-03-26', '2018-03-23', '2018-03-22',\n",
            "               '2018-03-21', '2018-03-20', '2018-03-19', '2018-03-16',\n",
            "               '2018-03-15', '2018-03-14',\n",
            "               ...\n",
            "               '2010-07-13', '2010-07-12', '2010-07-09', '2010-07-08',\n",
            "               '2010-07-07', '2010-07-06', '2010-07-02', '2010-07-01',\n",
            "               '2010-06-30', '2010-06-29'],\n",
            "              dtype='datetime64[ns]', name='Date', length=1949, freq=None)\n"
          ]
        }
      ]
    },
    {
      "cell_type": "code",
      "source": [
        "print(tesla.loc['2015'].iloc[:5, :5])"
      ],
      "metadata": {
        "colab": {
          "base_uri": "https://localhost:8080/"
        },
        "id": "6tyHkXR_t3jU",
        "outputId": "49b06f8e-532e-4e57-bbe7-9daeb1ce0982"
      },
      "execution_count": 38,
      "outputs": [
        {
          "output_type": "stream",
          "name": "stdout",
          "text": [
            "                 Date    Open     High       Low   Close\n",
            "Date                                                    \n",
            "2015-12-31 2015-12-31  238.51  243.450  238.3700  240.01\n",
            "2015-12-30 2015-12-30  236.60  243.634  235.6707  238.09\n",
            "2015-12-29 2015-12-29  230.06  237.720  229.5470  237.19\n",
            "2015-12-28 2015-12-28  231.49  231.980  225.5400  228.95\n",
            "2015-12-24 2015-12-24  230.56  231.880  228.2800  230.57\n"
          ]
        }
      ]
    },
    {
      "cell_type": "code",
      "source": [
        "print(tesla.loc['2010-06'].iloc[:, :5])"
      ],
      "metadata": {
        "colab": {
          "base_uri": "https://localhost:8080/"
        },
        "id": "4Zk8sgsUuPOb",
        "outputId": "39040778-580f-4720-b3d3-ddbf1958554f"
      },
      "execution_count": 39,
      "outputs": [
        {
          "output_type": "stream",
          "name": "stdout",
          "text": [
            "                 Date   Open     High    Low  Close\n",
            "Date                                               \n",
            "2010-06-30 2010-06-30  25.79  30.4192  23.30  23.83\n",
            "2010-06-29 2010-06-29  19.00  25.0000  17.54  23.89\n"
          ]
        }
      ]
    },
    {
      "cell_type": "code",
      "source": [
        "#시간 간격과 인덱스 - TimedeltaIndex\n",
        "\n",
        "tesla['ref_date'] = tesla['Date'] - tesla['Date'].min()\n",
        "print(tesla.head())\n",
        "\n",
        "tesla.index = tesla['ref_date']\n",
        "print(tesla.iloc[:5, :5])"
      ],
      "metadata": {
        "colab": {
          "base_uri": "https://localhost:8080/"
        },
        "id": "crk9d8ZJuR_M",
        "outputId": "664a2089-7699-41af-8a2d-33e790ccc1d6"
      },
      "execution_count": 40,
      "outputs": [
        {
          "output_type": "stream",
          "name": "stdout",
          "text": [
            "                 Date    Open    High     Low   Close      Volume  ExDividend  \\\n",
            "Date                                                                            \n",
            "2018-03-27 2018-03-27  304.00  304.27  277.18  279.18  13696168.0         0.0   \n",
            "2018-03-26 2018-03-26  307.34  307.59  291.36  304.18   8324639.0         0.0   \n",
            "2018-03-23 2018-03-23  311.25  311.61  300.45  301.54   6600538.0         0.0   \n",
            "2018-03-22 2018-03-22  313.89  318.82  308.18  309.10   4914307.0         0.0   \n",
            "2018-03-21 2018-03-21  310.25  322.44  310.19  316.53   5927881.0         0.0   \n",
            "\n",
            "            SplitRatio  AdjOpen  AdjHigh  AdjLow  AdjClose   AdjVolume  \\\n",
            "Date                                                                     \n",
            "2018-03-27         1.0   304.00   304.27  277.18    279.18  13696168.0   \n",
            "2018-03-26         1.0   307.34   307.59  291.36    304.18   8324639.0   \n",
            "2018-03-23         1.0   311.25   311.61  300.45    301.54   6600538.0   \n",
            "2018-03-22         1.0   313.89   318.82  308.18    309.10   4914307.0   \n",
            "2018-03-21         1.0   310.25   322.44  310.19    316.53   5927881.0   \n",
            "\n",
            "            ref_date  \n",
            "Date                  \n",
            "2018-03-27 2828 days  \n",
            "2018-03-26 2827 days  \n",
            "2018-03-23 2824 days  \n",
            "2018-03-22 2823 days  \n",
            "2018-03-21 2822 days  \n",
            "                Date    Open    High     Low   Close\n",
            "ref_date                                            \n",
            "2828 days 2018-03-27  304.00  304.27  277.18  279.18\n",
            "2827 days 2018-03-26  307.34  307.59  291.36  304.18\n",
            "2824 days 2018-03-23  311.25  311.61  300.45  301.54\n",
            "2823 days 2018-03-22  313.89  318.82  308.18  309.10\n",
            "2822 days 2018-03-21  310.25  322.44  310.19  316.53\n"
          ]
        }
      ]
    },
    {
      "cell_type": "code",
      "source": [
        "# 시간 범위와 인덱스\n",
        "\n",
        "ebola = pd.read_csv('/content/drive/MyDrive/ESAA/country_timeseries.csv', parse_dates=[0])\n",
        "print(ebola.iloc[:5, :5])"
      ],
      "metadata": {
        "colab": {
          "base_uri": "https://localhost:8080/"
        },
        "id": "aryFhILmuglA",
        "outputId": "ef5a845a-dfdc-47fb-f1a2-665ccf9e062f"
      },
      "execution_count": 41,
      "outputs": [
        {
          "output_type": "stream",
          "name": "stdout",
          "text": [
            "        Date  Day  Cases_Guinea  Cases_Liberia  Cases_SierraLeone\n",
            "0 2015-01-05  289        2776.0            NaN            10030.0\n",
            "1 2015-01-04  288        2775.0            NaN             9780.0\n",
            "2 2015-01-03  287        2769.0         8166.0             9722.0\n",
            "3 2015-01-02  286           NaN         8157.0                NaN\n",
            "4 2014-12-31  284        2730.0         8115.0             9633.0\n"
          ]
        }
      ]
    },
    {
      "cell_type": "code",
      "source": [
        "print(ebola.iloc[-5:, :5])"
      ],
      "metadata": {
        "colab": {
          "base_uri": "https://localhost:8080/"
        },
        "id": "2uq-1ggWumIF",
        "outputId": "defb7e4e-788f-4693-8766-6ed9d232a1aa"
      },
      "execution_count": 42,
      "outputs": [
        {
          "output_type": "stream",
          "name": "stdout",
          "text": [
            "          Date  Day  Cases_Guinea  Cases_Liberia  Cases_SierraLeone\n",
            "117 2014-03-27    5         103.0            8.0                6.0\n",
            "118 2014-03-26    4          86.0            NaN                NaN\n",
            "119 2014-03-25    3          86.0            NaN                NaN\n",
            "120 2014-03-24    2          86.0            NaN                NaN\n",
            "121 2014-03-22    0          49.0            NaN                NaN\n"
          ]
        }
      ]
    },
    {
      "cell_type": "code",
      "source": [
        "head_range = pd.date_range(start='2014-12-31', end='2015-01-05')\n",
        "print(head_range)"
      ],
      "metadata": {
        "colab": {
          "base_uri": "https://localhost:8080/"
        },
        "id": "4-QDppHduqdp",
        "outputId": "209fad6a-2114-49af-a6a3-2cbf70cc49ad"
      },
      "execution_count": 44,
      "outputs": [
        {
          "output_type": "stream",
          "name": "stdout",
          "text": [
            "DatetimeIndex(['2014-12-31', '2015-01-01', '2015-01-02', '2015-01-03',\n",
            "               '2015-01-04', '2015-01-05'],\n",
            "              dtype='datetime64[ns]', freq='D')\n"
          ]
        }
      ]
    },
    {
      "cell_type": "code",
      "source": [
        "ebola_5 = ebola.head()\n",
        "ebola_5.index = ebola_5['Date']\n",
        "ebola_5.reindex(head_range)\n",
        "print(ebola_5.iloc[:5, :5])"
      ],
      "metadata": {
        "colab": {
          "base_uri": "https://localhost:8080/"
        },
        "id": "oFogygCRvDmW",
        "outputId": "8dfa25b0-73b1-41f1-b17c-3d49833a1c5c"
      },
      "execution_count": 45,
      "outputs": [
        {
          "output_type": "stream",
          "name": "stdout",
          "text": [
            "                 Date  Day  Cases_Guinea  Cases_Liberia  Cases_SierraLeone\n",
            "Date                                                                      \n",
            "2015-01-05 2015-01-05  289        2776.0            NaN            10030.0\n",
            "2015-01-04 2015-01-04  288        2775.0            NaN             9780.0\n",
            "2015-01-03 2015-01-03  287        2769.0         8166.0             9722.0\n",
            "2015-01-02 2015-01-02  286           NaN         8157.0                NaN\n",
            "2014-12-31 2014-12-31  284        2730.0         8115.0             9633.0\n"
          ]
        }
      ]
    },
    {
      "cell_type": "code",
      "source": [
        "# 시간 범위의 주기 설정하기\n",
        "\n",
        "print(pd.date_range('2017-01-01', '2017-01-07', freq='B'))"
      ],
      "metadata": {
        "colab": {
          "base_uri": "https://localhost:8080/"
        },
        "id": "cM8-nur9vNJZ",
        "outputId": "89d5550c-3717-4dc9-b110-41e5e61571f9"
      },
      "execution_count": 46,
      "outputs": [
        {
          "output_type": "stream",
          "name": "stdout",
          "text": [
            "DatetimeIndex(['2017-01-02', '2017-01-03', '2017-01-04', '2017-01-05',\n",
            "               '2017-01-06'],\n",
            "              dtype='datetime64[ns]', freq='B')\n"
          ]
        }
      ]
    },
    {
      "cell_type": "code",
      "source": [
        "# 에볼라의 확산 속도 비교하기\n",
        "\n",
        "import matplotlib.pyplot as plt\n",
        "\n",
        "ebola.index = ebola['Date']\n",
        "fig, ax = plt.subplots()\n",
        "ax = ebola.iloc[0:, 1:].plot(ax=ax)\n",
        "ax.legend(fontsize=7, loc=2, borderaxespad=0)\n",
        "plt.show()"
      ],
      "metadata": {
        "colab": {
          "base_uri": "https://localhost:8080/",
          "height": 433
        },
        "id": "E-BwuIuWvT3t",
        "outputId": "a19a23aa-cc71-45cb-8c17-11853d3a8494"
      },
      "execution_count": 48,
      "outputs": [
        {
          "output_type": "display_data",
          "data": {
            "text/plain": [
              "<Figure size 640x480 with 1 Axes>"
            ],
            "image/png": "[encoded data removed]"
          },
          "metadata": {}
        }
      ]
    },
    {
      "cell_type": "code",
      "source": [
        "# 출발선을 같게 만듦\n",
        "ebola_sub = ebola[['Day', 'Cases_Guinea', 'Cases_Liberia']]\n",
        "print(ebola_sub.tail())"
      ],
      "metadata": {
        "colab": {
          "base_uri": "https://localhost:8080/"
        },
        "id": "cUDbQHKcvt3F",
        "outputId": "6ec58af4-745a-4b97-e7bc-55965e26b7bd"
      },
      "execution_count": 49,
      "outputs": [
        {
          "output_type": "stream",
          "name": "stdout",
          "text": [
            "            Day  Cases_Guinea  Cases_Liberia\n",
            "Date                                        \n",
            "2014-03-27    5         103.0            8.0\n",
            "2014-03-26    4          86.0            NaN\n",
            "2014-03-25    3          86.0            NaN\n",
            "2014-03-24    2          86.0            NaN\n",
            "2014-03-22    0          49.0            NaN\n"
          ]
        }
      ]
    },
    {
      "cell_type": "code",
      "source": [
        "ebola = pd.read_csv('/content/drive/MyDrive/ESAA/country_timeseries.csv', parse_dates=['Date'])\n",
        "print(ebola.iloc[:, :5])\n",
        "\n",
        "print(ebola.tail().iloc[:, :5])"
      ],
      "metadata": {
        "colab": {
          "base_uri": "https://localhost:8080/"
        },
        "id": "RYIP71QVwHk8",
        "outputId": "679523ea-8d3c-4aea-9fc4-eb7a40472a7f"
      },
      "execution_count": 50,
      "outputs": [
        {
          "output_type": "stream",
          "name": "stdout",
          "text": [
            "          Date  Day  Cases_Guinea  Cases_Liberia  Cases_SierraLeone\n",
            "0   2015-01-05  289        2776.0            NaN            10030.0\n",
            "1   2015-01-04  288        2775.0            NaN             9780.0\n",
            "2   2015-01-03  287        2769.0         8166.0             9722.0\n",
            "3   2015-01-02  286           NaN         8157.0                NaN\n",
            "4   2014-12-31  284        2730.0         8115.0             9633.0\n",
            "..         ...  ...           ...            ...                ...\n",
            "117 2014-03-27    5         103.0            8.0                6.0\n",
            "118 2014-03-26    4          86.0            NaN                NaN\n",
            "119 2014-03-25    3          86.0            NaN                NaN\n",
            "120 2014-03-24    2          86.0            NaN                NaN\n",
            "121 2014-03-22    0          49.0            NaN                NaN\n",
            "\n",
            "[122 rows x 5 columns]\n",
            "          Date  Day  Cases_Guinea  Cases_Liberia  Cases_SierraLeone\n",
            "117 2014-03-27    5         103.0            8.0                6.0\n",
            "118 2014-03-26    4          86.0            NaN                NaN\n",
            "119 2014-03-25    3          86.0            NaN                NaN\n",
            "120 2014-03-24    2          86.0            NaN                NaN\n",
            "121 2014-03-22    0          49.0            NaN                NaN\n"
          ]
        }
      ]
    },
    {
      "cell_type": "code",
      "source": [
        "ebola.index = ebola['Date']\n",
        "new_idx = pd.date_range(ebola.index.min(), ebola.index.max())\n",
        "print(new_idx)"
      ],
      "metadata": {
        "colab": {
          "base_uri": "https://localhost:8080/"
        },
        "id": "tqBIYfDywZg6",
        "outputId": "fbcfcda6-fefa-4a13-b1af-bb74e00e1ee9"
      },
      "execution_count": 51,
      "outputs": [
        {
          "output_type": "stream",
          "name": "stdout",
          "text": [
            "DatetimeIndex(['2014-03-22', '2014-03-23', '2014-03-24', '2014-03-25',\n",
            "               '2014-03-26', '2014-03-27', '2014-03-28', '2014-03-29',\n",
            "               '2014-03-30', '2014-03-31',\n",
            "               ...\n",
            "               '2014-12-27', '2014-12-28', '2014-12-29', '2014-12-30',\n",
            "               '2014-12-31', '2015-01-01', '2015-01-02', '2015-01-03',\n",
            "               '2015-01-04', '2015-01-05'],\n",
            "              dtype='datetime64[ns]', length=290, freq='D')\n"
          ]
        }
      ]
    },
    {
      "cell_type": "code",
      "source": [
        "ebola = ebola.reindex(new_idx)\n",
        "print(ebola.head().iloc[:, :5])\n",
        "print(ebola.tail().iloc[:, :5])"
      ],
      "metadata": {
        "colab": {
          "base_uri": "https://localhost:8080/"
        },
        "id": "gahPjoDIwcsR",
        "outputId": "d42754a6-2258-4c74-e248-f2236aad3073"
      },
      "execution_count": 52,
      "outputs": [
        {
          "output_type": "stream",
          "name": "stdout",
          "text": [
            "                 Date  Day  Cases_Guinea  Cases_Liberia  Cases_SierraLeone\n",
            "2014-03-22 2014-03-22  0.0          49.0            NaN                NaN\n",
            "2014-03-23        NaT  NaN           NaN            NaN                NaN\n",
            "2014-03-24 2014-03-24  2.0          86.0            NaN                NaN\n",
            "2014-03-25 2014-03-25  3.0          86.0            NaN                NaN\n",
            "2014-03-26 2014-03-26  4.0          86.0            NaN                NaN\n",
            "                 Date    Day  Cases_Guinea  Cases_Liberia  Cases_SierraLeone\n",
            "2015-01-01        NaT    NaN           NaN            NaN                NaN\n",
            "2015-01-02 2015-01-02  286.0           NaN         8157.0                NaN\n",
            "2015-01-03 2015-01-03  287.0        2769.0         8166.0             9722.0\n",
            "2015-01-04 2015-01-04  288.0        2775.0            NaN             9780.0\n",
            "2015-01-05 2015-01-05  289.0        2776.0            NaN            10030.0\n"
          ]
        }
      ]
    },
    {
      "cell_type": "code",
      "source": [
        "# 각 나라의 에볼라 발병일 옮기기\n",
        "\n",
        "last_valid = ebola.apply(pd.Series.last_valid_index)\n",
        "print(last_valid)\n",
        "\n",
        "first_valid = ebola.apply(pd.Series.first_valid_index)\n",
        "print(first_valid)"
      ],
      "metadata": {
        "colab": {
          "base_uri": "https://localhost:8080/"
        },
        "id": "rnBpBYZpwl1F",
        "outputId": "66372f1a-dce1-49ea-edde-4177eb601ef9"
      },
      "execution_count": 53,
      "outputs": [
        {
          "output_type": "stream",
          "name": "stdout",
          "text": [
            "Date                  2015-01-05\n",
            "Day                   2015-01-05\n",
            "Cases_Guinea          2015-01-05\n",
            "Cases_Liberia         2015-01-03\n",
            "Cases_SierraLeone     2015-01-05\n",
            "Cases_Nigeria         2014-12-07\n",
            "Cases_Senegal         2014-12-07\n",
            "Cases_UnitedStates    2014-12-07\n",
            "Cases_Spain           2014-12-07\n",
            "Cases_Mali            2014-12-07\n",
            "Deaths_Guinea         2015-01-05\n",
            "Deaths_Liberia        2015-01-03\n",
            "Deaths_SierraLeone    2015-01-05\n",
            "Deaths_Nigeria        2014-12-07\n",
            "Deaths_Senegal        2014-12-07\n",
            "Deaths_UnitedStates   2014-12-07\n",
            "Deaths_Spain          2014-12-07\n",
            "Deaths_Mali           2014-12-07\n",
            "dtype: datetime64[ns]\n",
            "Date                  2014-03-22\n",
            "Day                   2014-03-22\n",
            "Cases_Guinea          2014-03-22\n",
            "Cases_Liberia         2014-03-27\n",
            "Cases_SierraLeone     2014-03-27\n",
            "Cases_Nigeria         2014-07-23\n",
            "Cases_Senegal         2014-08-31\n",
            "Cases_UnitedStates    2014-10-01\n",
            "Cases_Spain           2014-10-08\n",
            "Cases_Mali            2014-10-22\n",
            "Deaths_Guinea         2014-03-22\n",
            "Deaths_Liberia        2014-03-27\n",
            "Deaths_SierraLeone    2014-03-27\n",
            "Deaths_Nigeria        2014-07-23\n",
            "Deaths_Senegal        2014-09-07\n",
            "Deaths_UnitedStates   2014-10-01\n",
            "Deaths_Spain          2014-10-08\n",
            "Deaths_Mali           2014-10-22\n",
            "dtype: datetime64[ns]\n"
          ]
        }
      ]
    },
    {
      "cell_type": "code",
      "source": [
        "earliest_date = ebola.index.min()\n",
        "print(earliest_date)"
      ],
      "metadata": {
        "colab": {
          "base_uri": "https://localhost:8080/"
        },
        "id": "74Hl0G97wwwb",
        "outputId": "7de8d103-a583-4e14-e15d-24d23b1ffa90"
      },
      "execution_count": 54,
      "outputs": [
        {
          "output_type": "stream",
          "name": "stdout",
          "text": [
            "2014-03-22 00:00:00\n"
          ]
        }
      ]
    },
    {
      "cell_type": "code",
      "source": [
        "shift_values = last_valid - earliest_date\n",
        "print(shift_values)"
      ],
      "metadata": {
        "colab": {
          "base_uri": "https://localhost:8080/"
        },
        "id": "nWSJfR-pw1BY",
        "outputId": "688d7c5b-3fe9-4b99-ef0d-a1e96d30f064"
      },
      "execution_count": 55,
      "outputs": [
        {
          "output_type": "stream",
          "name": "stdout",
          "text": [
            "Date                  289 days\n",
            "Day                   289 days\n",
            "Cases_Guinea          289 days\n",
            "Cases_Liberia         287 days\n",
            "Cases_SierraLeone     289 days\n",
            "Cases_Nigeria         260 days\n",
            "Cases_Senegal         260 days\n",
            "Cases_UnitedStates    260 days\n",
            "Cases_Spain           260 days\n",
            "Cases_Mali            260 days\n",
            "Deaths_Guinea         289 days\n",
            "Deaths_Liberia        287 days\n",
            "Deaths_SierraLeone    289 days\n",
            "Deaths_Nigeria        260 days\n",
            "Deaths_Senegal        260 days\n",
            "Deaths_UnitedStates   260 days\n",
            "Deaths_Spain          260 days\n",
            "Deaths_Mali           260 days\n",
            "dtype: timedelta64[ns]\n"
          ]
        }
      ]
    },
    {
      "cell_type": "code",
      "source": [
        "ebola_dict = {}\n",
        "for idx, col in enumerate(ebola):\n",
        "  d = shift_values[idx].days\n",
        "  shifted = ebola[col].shift(d)\n",
        "  ebola_dict[col] = shifted"
      ],
      "metadata": {
        "colab": {
          "base_uri": "https://localhost:8080/"
        },
        "id": "aoKOH7-ww4v1",
        "outputId": "0e0390e0-9a07-455f-eb77-9e35f67f8c88"
      },
      "execution_count": 56,
      "outputs": [
        {
          "output_type": "stream",
          "name": "stderr",
          "text": [
            "<ipython-input-56-a7363186ba3f>:3: FutureWarning: Series.__getitem__ treating keys as positions is deprecated. In a future version, integer keys will always be treated as labels (consistent with DataFrame behavior). To access a value by position, use `ser.iloc[pos]`\n",
            "  d = shift_values[idx].days\n"
          ]
        }
      ]
    },
    {
      "cell_type": "code",
      "source": [
        "ebola_shift = pd.DataFrame(ebola_dict)\n",
        "print(ebola_shift.tail())"
      ],
      "metadata": {
        "colab": {
          "base_uri": "https://localhost:8080/"
        },
        "id": "LT5K2ItPw8f5",
        "outputId": "dbaf511f-bcac-4cae-b607-b574338ee044"
      },
      "execution_count": 57,
      "outputs": [
        {
          "output_type": "stream",
          "name": "stdout",
          "text": [
            "                 Date  Day  Cases_Guinea  Cases_Liberia  Cases_SierraLeone  \\\n",
            "2015-01-01        NaT  NaN           NaN            NaN                NaN   \n",
            "2015-01-02        NaT  NaN           NaN            NaN                NaN   \n",
            "2015-01-03        NaT  NaN           NaN            NaN                NaN   \n",
            "2015-01-04        NaT  NaN           NaN            NaN                NaN   \n",
            "2015-01-05 2014-03-22  0.0          49.0            NaN                NaN   \n",
            "\n",
            "            Cases_Nigeria  Cases_Senegal  Cases_UnitedStates  Cases_Spain  \\\n",
            "2015-01-01            NaN            NaN                 NaN          NaN   \n",
            "2015-01-02            NaN            NaN                 NaN          NaN   \n",
            "2015-01-03            NaN            NaN                 NaN          NaN   \n",
            "2015-01-04            NaN            NaN                 NaN          NaN   \n",
            "2015-01-05            NaN            NaN                 NaN          NaN   \n",
            "\n",
            "            Cases_Mali  Deaths_Guinea  Deaths_Liberia  Deaths_SierraLeone  \\\n",
            "2015-01-01         NaN            NaN             NaN                 NaN   \n",
            "2015-01-02         NaN            NaN             NaN                 NaN   \n",
            "2015-01-03         NaN            NaN             NaN                 NaN   \n",
            "2015-01-04         NaN            NaN             NaN                 NaN   \n",
            "2015-01-05         NaN           29.0             NaN                 NaN   \n",
            "\n",
            "            Deaths_Nigeria  Deaths_Senegal  Deaths_UnitedStates  Deaths_Spain  \\\n",
            "2015-01-01             NaN             NaN                  NaN           NaN   \n",
            "2015-01-02             NaN             NaN                  NaN           NaN   \n",
            "2015-01-03             NaN             NaN                  NaN           NaN   \n",
            "2015-01-04             NaN             NaN                  NaN           NaN   \n",
            "2015-01-05             NaN             NaN                  NaN           NaN   \n",
            "\n",
            "            Deaths_Mali  \n",
            "2015-01-01          NaN  \n",
            "2015-01-02          NaN  \n",
            "2015-01-03          NaN  \n",
            "2015-01-04          NaN  \n",
            "2015-01-05          NaN  \n"
          ]
        }
      ]
    },
    {
      "cell_type": "code",
      "source": [
        "ebola_shift.index = ebola_shift['Day']\n",
        "ebola_shift = ebola_shift.drop(['Date','Day'], axis=1)\n",
        "print(ebola_shift.tail())"
      ],
      "metadata": {
        "colab": {
          "base_uri": "https://localhost:8080/"
        },
        "id": "Cxtk4HKQxBtw",
        "outputId": "e867fddd-9636-4092-e829-79dcc218e941"
      },
      "execution_count": 58,
      "outputs": [
        {
          "output_type": "stream",
          "name": "stdout",
          "text": [
            "     Cases_Guinea  Cases_Liberia  Cases_SierraLeone  Cases_Nigeria  \\\n",
            "Day                                                                  \n",
            "NaN           NaN            NaN                NaN            NaN   \n",
            "NaN           NaN            NaN                NaN            NaN   \n",
            "NaN           NaN            NaN                NaN            NaN   \n",
            "NaN           NaN            NaN                NaN            NaN   \n",
            "0.0          49.0            NaN                NaN            NaN   \n",
            "\n",
            "     Cases_Senegal  Cases_UnitedStates  Cases_Spain  Cases_Mali  \\\n",
            "Day                                                               \n",
            "NaN            NaN                 NaN          NaN         NaN   \n",
            "NaN            NaN                 NaN          NaN         NaN   \n",
            "NaN            NaN                 NaN          NaN         NaN   \n",
            "NaN            NaN                 NaN          NaN         NaN   \n",
            "0.0            NaN                 NaN          NaN         NaN   \n",
            "\n",
            "     Deaths_Guinea  Deaths_Liberia  Deaths_SierraLeone  Deaths_Nigeria  \\\n",
            "Day                                                                      \n",
            "NaN            NaN             NaN                 NaN             NaN   \n",
            "NaN            NaN             NaN                 NaN             NaN   \n",
            "NaN            NaN             NaN                 NaN             NaN   \n",
            "NaN            NaN             NaN                 NaN             NaN   \n",
            "0.0           29.0             NaN                 NaN             NaN   \n",
            "\n",
            "     Deaths_Senegal  Deaths_UnitedStates  Deaths_Spain  Deaths_Mali  \n",
            "Day                                                                  \n",
            "NaN             NaN                  NaN           NaN          NaN  \n",
            "NaN             NaN                  NaN           NaN          NaN  \n",
            "NaN             NaN                  NaN           NaN          NaN  \n",
            "NaN             NaN                  NaN           NaN          NaN  \n",
            "0.0             NaN                  NaN           NaN          NaN  \n"
          ]
        }
      ]
    },
    {
      "cell_type": "code",
      "source": [
        "fig, ax = plt.subplots()\n",
        "ax = ebola_shift.iloc[:, :].plot(ax=ax)\n",
        "ax.legend(fontsize=7, loc=2, borderaxespad=0.)\n",
        "plt.show()"
      ],
      "metadata": {
        "colab": {
          "base_uri": "https://localhost:8080/",
          "height": 455
        },
        "id": "US-sEsTfxITc",
        "outputId": "600bf7f9-995e-4b78-c54c-8da9d9c61109"
      },
      "execution_count": 60,
      "outputs": [
        {
          "output_type": "display_data",
          "data": {
            "text/plain": [
              "<Figure size 640x480 with 1 Axes>"
            ],
            "image/png": "[encoded data removed]"
          },
          "metadata": {}
        }
      ]
    }
  ]
}